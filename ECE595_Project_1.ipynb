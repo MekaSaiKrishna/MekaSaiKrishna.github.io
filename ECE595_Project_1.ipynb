{
  "nbformat": 4,
  "nbformat_minor": 0,
  "metadata": {
    "colab": {
      "name": "ECE595 Project_1.ipynb",
      "provenance": [],
      "authorship_tag": "ABX9TyPOeLSRp+KpGxsKR9uR72YT",
      "include_colab_link": true
    },
    "kernelspec": {
      "name": "python3",
      "display_name": "Python 3"
    },
    "language_info": {
      "name": "python"
    }
  },
  "cells": [
    {
      "cell_type": "markdown",
      "metadata": {
        "id": "view-in-github",
        "colab_type": "text"
      },
      "source": [
        "<a href=\"https://colab.research.google.com/github/MekaSaiKrishna/MekaSaiKrishna.github.io/blob/main/ECE595_Project_1.ipynb\" target=\"_parent\"><img src=\"https://colab.research.google.com/assets/colab-badge.svg\" alt=\"Open In Colab\"/></a>"
      ]
    },
    {
      "cell_type": "markdown",
      "source": [
        "# **Project Title**: Improvements to Learning to Reweight Examples for Robust Deep Learning"
      ],
      "metadata": {
        "id": "TinWwuQhy_aq"
      }
    },
    {
      "cell_type": "markdown",
      "source": [
        "HW2: Check Point-2: ***Baseline***"
      ],
      "metadata": {
        "id": "Og3DQ-Qw0ULf"
      }
    },
    {
      "cell_type": "markdown",
      "source": [
        "**Baseline**: An existing method that has been\n",
        "reported in the literature, typically with Python codes available.\n",
        "\n",
        "---\n",
        "1.   Aim to reproduce the results reported in the main reference you choose.\n",
        "2.   Run their pre-trained models (if available) on your testing dataset. Check if the results make sense. This step is mandatory for check point 2.\n",
        "3.   Modify the training dataset and try to retrain their model. Check if the results make sense. This step is ***optional*** for check point 2 but will be required for check point 3.\n",
        "\n",
        "---\n",
        "Topic 4: Noisy label: You need to download and run an existing code. Try to perturb the labels according to some simple models. Plot the classification accuracy as a function of the amount of noisy labels. To accomplish this task, you need to be familiar with the code, and be able to perturb labels.\n",
        "\n"
      ],
      "metadata": {
        "id": "X97HAxB91i_M"
      }
    },
    {
      "cell_type": "code",
      "source": [
        ""
      ],
      "metadata": {
        "id": "2epg5xJ60aW2"
      },
      "execution_count": null,
      "outputs": []
    }
  ]
}